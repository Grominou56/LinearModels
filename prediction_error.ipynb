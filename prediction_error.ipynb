{
 "cells": [
  {
   "cell_type": "code",
   "execution_count": 4,
   "id": "021c1411",
   "metadata": {},
   "outputs": [],
   "source": [
    "\"\"\" Import required packages \"\"\"\n",
    "\n",
    "import numpy as np\n",
    "import statsmodels.api as sm\n",
    "import pandas as pd\n",
    "import matplotlib.pyplot as plt\n",
    "import scipy"
   ]
  },
  {
   "cell_type": "code",
   "execution_count": null,
   "id": "c4d6b54f",
   "metadata": {},
   "outputs": [],
   "source": [
    "\"\"\" Create dataset as Pandas dataframe \"\"\"\n",
    "\n",
    "X = [2,4,7,12, 23,56,98, 123, 200]\n",
    "y = [23, 32, 46, 39, 90, 155, 230, 295, 410]\n",
    "df = pd.DataFrame()\n",
    "df['X'] = X\n",
    "df['y'] = y\n",
    "#df = df.sort_values('X').copy()\n",
    "print(df)\n",
    "print('The dataframe has {} lines and {} columns'.format(df.shape[0], df.shape[1]))"
   ]
  },
  {
   "cell_type": "code",
   "execution_count": 6,
   "id": "bde9f7c1",
   "metadata": {},
   "outputs": [],
   "source": [
    "\"\"\" Compute linear OLS model  \"\"\"\n",
    "\n",
    "mod = sm.OLS(df['y'],sm.add_constant(df['X']))\n",
    "res = mod.fit()"
   ]
  },
  {
   "cell_type": "code",
   "execution_count": null,
   "id": "7037a102",
   "metadata": {},
   "outputs": [],
   "source": [
    "print(res.mse_model / res.mse_resid)"
   ]
  },
  {
   "cell_type": "code",
   "execution_count": null,
   "id": "331500c9",
   "metadata": {
    "scrolled": true
   },
   "outputs": [],
   "source": [
    "print(res.summary())\n",
    "predictions = res.get_prediction()\n",
    "prediction_summary = predictions.summary_frame(alpha=0.05)\n",
    "print(prediction_summary)\n",
    "plt.plot(X, y, 'bo')\n",
    "plt.plot(X, prediction_summary['mean'], 'b-', lw=2)\n",
    "plt.plot(X, prediction_summary['obs_ci_lower'], 'r--', lw=1)\n",
    "plt.plot(X, prediction_summary['obs_ci_upper'], 'r--', lw=1)\n",
    "plt.plot(X, prediction_summary['mean_ci_lower'], 'b--', lw=1)\n",
    "plt.plot(X, prediction_summary['mean_ci_upper'], 'b--', lw=1)"
   ]
  },
  {
   "cell_type": "code",
   "execution_count": null,
   "id": "427044be",
   "metadata": {},
   "outputs": [],
   "source": [
    "data_test = pd.DataFrame()\n",
    "data_test['X'] = [0, 110]\n",
    "print(data_test)\n",
    "data_test = sm.add_constant(data_test['X'])\n",
    "print(data_test)\n",
    "test = mod.predict(res.params, data_test)\n",
    "print(test)"
   ]
  },
  {
   "cell_type": "code",
   "execution_count": null,
   "id": "8e34a228",
   "metadata": {},
   "outputs": [],
   "source": [
    "inv_xtx = mod.normalized_cov_params\n",
    "print(inv_xtx)\n",
    "X_pred = data_test.to_numpy()\n",
    "print(X_pred)\n",
    "type(X_pred)"
   ]
  },
  {
   "cell_type": "code",
   "execution_count": null,
   "id": "c59f2905",
   "metadata": {},
   "outputs": [],
   "source": [
    "n_pred = data_test.shape[0]\n",
    "var_err = np.zeros((n_pred,))\n",
    "for i in range(n_pred):\n",
    "    tmp = X_pred[i,:]\n",
    "    pm = np.dot(np.dot(tmp, inv_xtx), np.transpose(tmp))\n",
    "    var_err[i] = res.scale * (1 + pm)\n",
    "print(var_err)"
   ]
  },
  {
   "cell_type": "code",
   "execution_count": 12,
   "id": "db61b71a",
   "metadata": {},
   "outputs": [],
   "source": [
    "n = df.shape[0]\n",
    "p = 1\n",
    "qt = scipy.stats.t.ppf(0.975, df = n-p-1)"
   ]
  },
  {
   "cell_type": "code",
   "execution_count": null,
   "id": "957ae038",
   "metadata": {},
   "outputs": [],
   "source": [
    "yb = test - qt * np.sqrt(var_err)\n",
    "print(yb)\n",
    "yh = test + qt * np.sqrt(var_err)\n",
    "print(yh)"
   ]
  },
  {
   "cell_type": "code",
   "execution_count": null,
   "id": "dce5d8fe",
   "metadata": {},
   "outputs": [],
   "source": [
    "err = test - yb\n",
    "print(err)"
   ]
  },
  {
   "cell_type": "code",
   "execution_count": null,
   "id": "1bc215e3",
   "metadata": {},
   "outputs": [],
   "source": [
    "plt.plot(X, y, 'bo')\n",
    "plt.plot(X, prediction_summary['mean'], 'b-', lw=2)\n",
    "plt.plot(X, prediction_summary['obs_ci_lower'], 'r--', lw=1)\n",
    "plt.plot(X, prediction_summary['obs_ci_upper'], 'r--', lw=1)\n",
    "plt.plot(X, prediction_summary['mean_ci_lower'], 'b--', lw=1)\n",
    "plt.plot(X, prediction_summary['mean_ci_upper'], 'b--', lw=1)\n",
    "plt.plot(data_test['X'], test, 'ro')\n",
    "plt.errorbar(data_test['X'], test, err)"
   ]
  },
  {
   "cell_type": "code",
   "execution_count": null,
   "id": "901c0be4",
   "metadata": {},
   "outputs": [],
   "source": [
    "\"\"\" Simplified version with a fucntion for prediction \"\"\"\n",
    "\n",
    "import numpy as np\n",
    "import pandas as pd\n",
    "import statsmodels.api as sm\n",
    "\n",
    "# Exemple de données\n",
    "X = [2,4,7,12, 23,56,98, 123, 200]\n",
    "y = [23, 32, 46, 39, 90, 155, 230, 295, 410]\n",
    "\n",
    "# Création du modèle\n",
    "X = sm.add_constant(X)  # Ajouter une constante au modèle\n",
    "model = sm.OLS(y, X)\n",
    "res = model.fit()\n",
    "\n",
    "# Fonction pour prédire avec erreur\n",
    "def predict_with_error(new_x, X, y):\n",
    "    # Ajout manuel de la constante à new_x\n",
    "    new_x_with_const = np.array([[1, new_x]])  # La constante (1) est ajoutée manuellement\n",
    "\n",
    "    # Obtenir les prédictions et les intervalles de confiance\n",
    "    prediction = res.get_prediction(new_x_with_const)\n",
    "    pred_summary = prediction.summary_frame(alpha=0.05)  # Intervalle de confiance à 95%\n",
    "    \n",
    "    return pred_summary['mean'][0], pred_summary['obs_ci_lower'][0], pred_summary['obs_ci_upper'][0]\n",
    "\n",
    "# Exemple de prédiction pour une nouvelle valeur\n",
    "new_x = 110\n",
    "prediction, lower_bound, upper_bound = predict_with_error(new_x, X, y)\n",
    "\n",
    "# Affichage des résultats\n",
    "print(f\"Prédiction: {prediction}\")\n",
    "print(f\"Limite inférieure: {lower_bound}\")\n",
    "print(f\"Limite supérieure: {upper_bound}\")\n"
   ]
  }
 ],
 "metadata": {
  "kernelspec": {
   "display_name": ".venv",
   "language": "python",
   "name": "python3"
  },
  "language_info": {
   "codemirror_mode": {
    "name": "ipython",
    "version": 3
   },
   "file_extension": ".py",
   "mimetype": "text/x-python",
   "name": "python",
   "nbconvert_exporter": "python",
   "pygments_lexer": "ipython3",
   "version": "3.11.2"
  }
 },
 "nbformat": 4,
 "nbformat_minor": 5
}
