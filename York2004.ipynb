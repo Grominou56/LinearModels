{
 "cells": [
  {
   "cell_type": "code",
   "execution_count": 1,
   "metadata": {},
   "outputs": [],
   "source": [
    "# Import packages\n",
    "\n",
    "import York2004 as yk\n",
    "import pandas as pd\n",
    "import numpy as np\n",
    "import statsmodels.api as sm\n",
    "import matplotlib.pyplot as plt\n",
    "import LoadSaveFunctions as lsf"
   ]
  },
  {
   "cell_type": "code",
   "execution_count": null,
   "metadata": {},
   "outputs": [],
   "source": [
    "# Load Dataset\n",
    "\n",
    "data = lsf.load_excel_file()\n",
    "\n",
    "print(data.head(5))"
   ]
  },
  {
   "cell_type": "code",
   "execution_count": null,
   "metadata": {},
   "outputs": [],
   "source": [
    "# Compute OLS regression\n",
    "\n",
    "mod = sm.OLS(data['d18Ow'],sm.add_constant(data['d18Op']))\n",
    "res = mod.fit()\n",
    "predictions = res.get_prediction()\n",
    "prediction_summary = predictions.summary_frame(alpha=0.05)\n",
    "slope_intercept = res.params\n",
    "std_err = res.bse\n",
    "if slope_intercept.iloc[0] < 0:\n",
    "    label_ols = 'y={:1.2f}±{:1.2f}x{:1.2f}±{:1.2f}'.format(slope_intercept.iloc[1], std_err.iloc[1], slope_intercept.iloc[0], std_err.iloc[0])\n",
    "else:\n",
    "    label_ols = 'y={:1.2f}±{:1.2f}x+{:1.2f}±{:1.2f}'.format(slope_intercept.iloc[1], std_err[1], slope_intercept.iloc[0], std_err[0])\n",
    "print(\"OLS regression: \" + label_ols)\n",
    "\n",
    "# Compute York et al. 2004 regression\n",
    "\n",
    "[a_bivar, b_bivar, S, cov, sigma_a, sigma_b] = yk.bivariate_fit(data['d18Op'],data['d18Ow'],data['errx'], data['erry'])\n",
    "\n",
    "if a_bivar < 0:\n",
    "    label_york = 'y={:1.2f}±{:1.2f}x{:1.2f}±{:1.2f}'.format(b_bivar, sigma_b, a_bivar, sigma_a)\n",
    "else:\n",
    "    label_york = 'y={:1.2f}±{:1.2f}x+{:1.2f}±{:1.2f}'.format(b_bivar, sigma_b, a_bivar, sigma_a)\n",
    "print(\"York regression: \" + label_york)"
   ]
  },
  {
   "cell_type": "code",
   "execution_count": null,
   "metadata": {},
   "outputs": [],
   "source": [
    "# Plot dataset, OLS and York regressions\n",
    "\n",
    "fig, ax = plt.subplots()\n",
    "ax.plot(data['d18Op'], data['d18Ow'], 'bo')\n",
    "ax.errorbar(data['d18Op'],data['d18Ow'],yerr=data['erry'],xerr=data['errx'], fmt='o')\n",
    "ax.plot(data['d18Op'], prediction_summary['mean'], 'b-', lw=2, label='OLS: ' + label_ols)\n",
    "xlim = np.array([min(data['d18Op']), max(data['d18Op'])])\n",
    "ylim = np.array([min(data['d18Ow']), max(data['d18Ow'])])\n",
    "ax.plot(xlim, b_bivar*xlim + a_bivar,  'r-', label='York et al, 2004: ' + label_york)\n",
    "ax.legend()"
   ]
  },
  {
   "cell_type": "code",
   "execution_count": null,
   "metadata": {},
   "outputs": [],
   "source": [
    "# Export Figure in SVG format\n",
    "\n",
    "lsf.save_figure_as_svg(fig)\n"
   ]
  }
 ],
 "metadata": {
  "kernelspec": {
   "display_name": ".venv",
   "language": "python",
   "name": "python3"
  },
  "language_info": {
   "codemirror_mode": {
    "name": "ipython",
    "version": 3
   },
   "file_extension": ".py",
   "mimetype": "text/x-python",
   "name": "python",
   "nbconvert_exporter": "python",
   "pygments_lexer": "ipython3",
   "version": "3.11.2"
  },
  "orig_nbformat": 4
 },
 "nbformat": 4,
 "nbformat_minor": 2
}
